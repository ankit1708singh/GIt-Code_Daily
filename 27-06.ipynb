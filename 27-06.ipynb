{
  "metadata": {
    "kernelspec": {
      "name": "python",
      "display_name": "Python (Pyodide)",
      "language": "python"
    },
    "language_info": {
      "codemirror_mode": {
        "name": "python",
        "version": 3
      },
      "file_extension": ".py",
      "mimetype": "text/x-python",
      "name": "python",
      "nbconvert_exporter": "python",
      "pygments_lexer": "ipython3",
      "version": "3.8"
    }
  },
  "nbformat_minor": 5,
  "nbformat": 4,
  "cells": [
    {
      "id": "723f9e46-f26c-42e5-9419-10b16fba317d",
      "cell_type": "code",
      "source": "#print statement\nprint(\"hello\")",
      "metadata": {
        "trusted": true
      },
      "outputs": [
        {
          "name": "stdout",
          "output_type": "stream",
          "text": "hello\n"
        }
      ],
      "execution_count": 1
    },
    {
      "id": "f060853c-0d9a-44d4-a997-b75593cb6354",
      "cell_type": "code",
      "source": "# Testing for if-else statements\nage=int(input(\"please enter your age\"))\n# The input statement generates it in str as the default.\nif age>30:\n    print(\"man you are old\")\nelif age > 18:\n    print(\"dude bulit your life\")\nelif age <18:\n    print(\"watch pogo. what are you doing here?\")",
      "metadata": {
        "trusted": true
      },
      "outputs": [
        {
          "output_type": "stream",
          "name": "stdin",
          "text": "please enter your age 22\n"
        },
        {
          "name": "stdout",
          "output_type": "stream",
          "text": "dude bulit your life\n"
        }
      ],
      "execution_count": 20
    },
    {
      "id": "4d6e929b-0107-42c6-a604-068277db8eda",
      "cell_type": "code",
      "source": "",
      "metadata": {
        "trusted": true
      },
      "outputs": [],
      "execution_count": null
    }
  ]
}