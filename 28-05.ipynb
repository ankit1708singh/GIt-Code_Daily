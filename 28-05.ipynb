{
 "cells": [
  {
   "cell_type": "code",
   "execution_count": 2,
   "id": "7e0f3343-609a-4f3a-bf56-b433ff42a8d3",
   "metadata": {},
   "outputs": [
    {
     "name": "stdin",
     "output_type": "stream",
     "text": [
      "please enter first digit 5\n",
      "please enter second digit 66\n"
     ]
    },
    {
     "name": "stdout",
     "output_type": "stream",
     "text": [
      "Sum of two digits are 71\n",
      "Difference of the two numbers -61\n",
      "Product of the two numbers 330\n"
     ]
    }
   ],
   "source": [
    "#Task\n",
    "#The provided code stub reads two integers from STDIN, a and b. Add code to print three lines where:\n",
    "#The first line contains the sum of the two numbers.\n",
    "#The second line contains the difference of the two numbers (first - second).\n",
    "#The third line contains the product of the two numbers.\n",
    "\n",
    "\n",
    "a=int(input(\"please enter first digit\"))\n",
    "b=int(input(\"please enter second digit\"))\n",
    "print(\"Sum of two digits are\",a+b)\n",
    "print(\"Difference of the two numbers\", a-b)\n",
    "print(\"Product of the two numbers\", a*b)\n",
    "      "
   ]
  },
  {
   "cell_type": "code",
   "execution_count": 3,
   "id": "2eeb6540-f917-401b-bc3c-3e5f0ea9e089",
   "metadata": {},
   "outputs": [
    {
     "name": "stdin",
     "output_type": "stream",
     "text": [
      " 25\n"
     ]
    },
    {
     "name": "stdout",
     "output_type": "stream",
     "text": [
      "12345678910111213141516171819202122232425"
     ]
    }
   ],
   "source": [
    "#to type a number between 1 to 150 for any number to be entered, printed like a string in order. \n",
    "# i.e for 9 string \"123456789\"\n",
    "\n",
    "# initializing with an input.\n",
    "n = int(input())\n",
    "a=0\n",
    "\n",
    "# creating a loop:\n",
    "while n>=1 and n<=150 and n!=a :\n",
    "    print(a+1,end=\"\")\n",
    "    a=a+1"
   ]
  },
  {
   "cell_type": "code",
   "execution_count": 34,
   "id": "27630aa0-e943-4493-94ca-861063dc54fc",
   "metadata": {},
   "outputs": [
    {
     "name": "stdin",
     "output_type": "stream",
     "text": [
      " 66\n"
     ]
    },
    {
     "name": "stdout",
     "output_type": "stream",
     "text": [
      "Not Weird\n"
     ]
    }
   ],
   "source": [
    "#Code from hackerRank to print weird and not weird for numbers.\n",
    "#all odd numbers are weird\n",
    "#all even, inclusive 2 to 5 are \"not weird\".\n",
    "#all even numbers inclusive between 6 to 20 and \"Weird\"\n",
    "# All even numbers above 20 are \"Not weird\"\n",
    "\n",
    "n = int(input().strip())\n",
    "\n",
    "# using % to get the remainder for the division (basically odd or even)\n",
    "# if n%2==0 it's even.\n",
    "\n",
    "if (n%2) == 0:\n",
    "    if n>=2 and n<=5:\n",
    "        print(\"Not Weird\")\n",
    "    elif n>=6 and n<=20:\n",
    "        print(\"Weird\")\n",
    "    else:\n",
    "        print(\"Not Weird\")\n",
    "else:\n",
    "    print(\"Weird\")"
   ]
  },
  {
   "cell_type": "code",
   "execution_count": 16,
   "id": "48a5bbce-989f-4e7c-ba5b-2b0dd55d9341",
   "metadata": {},
   "outputs": [
    {
     "ename": "SyntaxError",
     "evalue": "cannot assign to expression here. Maybe you meant '==' instead of '='? (4072863563.py, line 2)",
     "output_type": "error",
     "traceback": [
      "  \u001b[36mCell\u001b[39m\u001b[36m \u001b[39m\u001b[32mIn[16]\u001b[39m\u001b[32m, line 2\u001b[39m\n\u001b[31m    \u001b[39m\u001b[31mif (n/2) = 0:\u001b[39m\n        ^\n\u001b[31mSyntaxError\u001b[39m\u001b[31m:\u001b[39m cannot assign to expression here. Maybe you meant '==' instead of '='?\n"
     ]
    }
   ],
   "source": []
  },
  {
   "cell_type": "code",
   "execution_count": 26,
   "id": "808bd46e-cba4-4ca5-9b79-337e92c6ec84",
   "metadata": {},
   "outputs": [
    {
     "data": {
      "text/plain": [
       "0"
      ]
     },
     "execution_count": 26,
     "metadata": {},
     "output_type": "execute_result"
    }
   ],
   "source": [
    "5%2\n",
    "4%2\n"
   ]
  },
  {
   "cell_type": "code",
   "execution_count": null,
   "id": "75cee1e6-a5e8-4a34-9377-ffce6b85ffe7",
   "metadata": {},
   "outputs": [],
   "source": []
  }
 ],
 "metadata": {
  "kernelspec": {
   "display_name": "Python 3 (ipykernel)",
   "language": "python",
   "name": "python3"
  },
  "language_info": {
   "codemirror_mode": {
    "name": "ipython",
    "version": 3
   },
   "file_extension": ".py",
   "mimetype": "text/x-python",
   "name": "python",
   "nbconvert_exporter": "python",
   "pygments_lexer": "ipython3",
   "version": "3.11.3"
  }
 },
 "nbformat": 4,
 "nbformat_minor": 5
}
