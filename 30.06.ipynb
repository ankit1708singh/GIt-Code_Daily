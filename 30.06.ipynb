{
 "cells": [
  {
   "cell_type": "code",
   "execution_count": null,
   "id": "96842b82-40d4-4d8f-8ffc-3154b43d1d41",
   "metadata": {},
   "outputs": [],
   "source": [
    "#Game with computer\n",
    "#ROck, Paper, Scissors.\n",
    "\n",
    "import random\n",
    "\n",
    "# Define the game function\n",
    "def play_game(user_choice):\n",
    "    choices = ['rock', 'paper', 'scissors']\n",
    "    computer_choice = random.choice(choices)\n",
    "    \n",
    "    print(f\"Computer chose: {computer_choice}\")\n",
    "    \n",
    "    if user_choice == computer_choice:\n",
    "        print(\"It's a tie!\")\n",
    "    elif (user_choice == 'rock' and computer_choice == 'scissors') or \\\n",
    "         (user_choice == 'scissors' and computer_choice == 'paper') or \\\n",
    "         (user_choice == 'paper' and computer_choice == 'rock'):\n",
    "        print(\"You win!\")\n",
    "    else:\n",
    "        print(\"You lose!\")\n",
    "\n",
    "# Ask user for input\n",
    "user_input = input(\"Enter rock, paper or scissors: \").lower()\n",
    "\n",
    "# Check valid input\n",
    "if user_input in ['rock', 'paper', 'scissors']:\n",
    "    play_game(user_input)\n",
    "else:\n",
    "    print(\"Invalid input. Please choose rock, paper or scissors.\")\n"
   ]
  }
 ],
 "metadata": {
  "kernelspec": {
   "display_name": "Python 3 (ipykernel)",
   "language": "python",
   "name": "python3"
  },
  "language_info": {
   "codemirror_mode": {
    "name": "ipython",
    "version": 3
   },
   "file_extension": ".py",
   "mimetype": "text/x-python",
   "name": "python",
   "nbconvert_exporter": "python",
   "pygments_lexer": "ipython3",
   "version": "3.11.3"
  }
 },
 "nbformat": 4,
 "nbformat_minor": 5
}
